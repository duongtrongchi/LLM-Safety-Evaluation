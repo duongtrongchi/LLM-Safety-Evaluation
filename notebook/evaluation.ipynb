{
 "cells": [
  {
   "cell_type": "code",
   "execution_count": 18,
   "metadata": {},
   "outputs": [
    {
     "name": "stderr",
     "output_type": "stream",
     "text": [
      "Loading checkpoint shards: 100%|██████████| 2/2 [00:35<00:00, 17.59s/it]\n"
     ]
    }
   ],
   "source": [
    "# Load model directly\n",
    "from transformers import AutoTokenizer, AutoModelForCausalLM\n",
    "\n",
    "tokenizer = AutoTokenizer.from_pretrained(\"d-llm/vinallama-2.7b-chat-orpo\")\n",
    "model = AutoModelForCausalLM.from_pretrained(\"d-llm/vinallama-2.7b-chat-orpo\")"
   ]
  },
  {
   "cell_type": "code",
   "execution_count": 2,
   "metadata": {},
   "outputs": [
    {
     "name": "stdout",
     "output_type": "stream",
     "text": [
      "==((====))==  Unsloth 2025.3.19: Fast Mistral patching. Transformers: 4.51.3.\n",
      "   \\\\   /|    Tesla T4. Num GPUs = 1. Max memory: 14.748 GB. Platform: Linux.\n",
      "O^O/ \\_/ \\    Torch: 2.6.0+cu124. CUDA: 7.5. CUDA Toolkit: 12.4. Triton: 3.2.0\n",
      "\\        /    Bfloat16 = FALSE. FA [Xformers = 0.0.29.post3. FA2 = False]\n",
      " \"-____-\"     Free license: http://github.com/unslothai/unsloth\n",
      "Unsloth: Fast downloading is enabled - ignore downloading bars which are red colored!\n"
     ]
    }
   ],
   "source": [
    "# from unsloth import FastLanguageModel, PatchDPOTrainer\n",
    "# from unsloth import is_bfloat16_supported\n",
    "# PatchDPOTrainer()\n",
    "# import torch\n",
    "# from transformers import TrainingArguments\n",
    "# from trl import DPOTrainer\n",
    "\n",
    "from src.processing.data import get_datasets, apply_chat_template\n",
    "from unsloth import FastLanguageModel\n",
    "\n",
    "max_seq_length = 4096 # Choose any! We auto support RoPE Scaling internally!\n",
    "dtype = None # None for auto detection. Float16 for Tesla T4, V100, Bfloat16 for Ampere+\n",
    "load_in_4bit = True # Use 4bit quantization to reduce memory usage. Can be False.\n",
    "\n",
    "\n",
    "model, tokenizer = FastLanguageModel.from_pretrained(\n",
    "    model_name = \"unsloth/zephyr-sft-bnb-4bit\",\n",
    "    max_seq_length = max_seq_length,\n",
    "    dtype = None,\n",
    "    load_in_4bit = True,\n",
    ")\n",
    "\n",
    "\n",
    "raw_datasets = get_datasets(\n",
    "    {\"HuggingFaceH4/ultrafeedback_binarized\" : 0.005}, # 0.5% sampled\n",
    "    splits = [\"train_prefs\", \"test_prefs\"],\n",
    ")\n",
    "column_names = list(raw_datasets[\"train\"].features)\n",
    "\n",
    "raw_datasets = raw_datasets.map(\n",
    "    apply_chat_template,\n",
    "    fn_kwargs = {\"tokenizer\": tokenizer, \"task\": \"dpo\"},\n",
    "    num_proc = 2,\n",
    "    remove_columns = column_names,\n",
    "    desc = \"Formatting comparisons with prompt template\",\n",
    ")"
   ]
  },
  {
   "cell_type": "code",
   "execution_count": 7,
   "metadata": {},
   "outputs": [
    {
     "data": {
      "text/plain": [
       "{'environment': {'cuda_visible_devices': '0',\n",
       "  'huggingface_token_env': 'HUGGINGFACE_TOKEN'},\n",
       " 'model': {'name': 'unsloth/Qwen2.5-1.5B-Instruct',\n",
       "  'max_seq_length': 2048,\n",
       "  'dtype': None,\n",
       "  'load_in_4bit': True},\n",
       " 'datasets': {'sources': {'HuggingFaceH4/ultrafeedback_binarized': 0.005},\n",
       "  'splits': ['train_prefs', 'test_prefs'],\n",
       "  'preprocessing': {'num_proc': 2, 'task': 'dpo'}},\n",
       " 'lora': {'r': 64,\n",
       "  'lora_alpha': 64,\n",
       "  'lora_dropout': 0,\n",
       "  'bias': 'none',\n",
       "  'target_modules': ['q_proj',\n",
       "   'k_proj',\n",
       "   'v_proj',\n",
       "   'o_proj',\n",
       "   'gate_proj',\n",
       "   'up_proj',\n",
       "   'down_proj'],\n",
       "  'use_gradient_checkpointing': 'unsloth',\n",
       "  'random_state': 3407},\n",
       " 'training': {'per_device_train_batch_size': 1,\n",
       "  'gradient_accumulation_steps': 16,\n",
       "  'warmup_ratio': 0.1,\n",
       "  'num_train_epochs': 3,\n",
       "  'fp16': True,\n",
       "  'bf16': False,\n",
       "  'logging_steps': 1,\n",
       "  'optim': 'adamw_8bit',\n",
       "  'seed': 42,\n",
       "  'output_dir': 'outputs'},\n",
       " 'dpo': {'beta': 0.1, 'max_length': 1024, 'max_prompt_length': 512}}"
      ]
     },
     "execution_count": 7,
     "metadata": {},
     "output_type": "execute_result"
    }
   ],
   "source": [
    "from src.utils import load_yaml_config\n",
    "\n",
    "data = load_yaml_config('/teamspace/studios/this_studio/LLM-Safety-Evaluation/configs/sailor_dpo_config.yaml')\n",
    "data"
   ]
  },
  {
   "cell_type": "code",
   "execution_count": 9,
   "metadata": {},
   "outputs": [
    {
     "data": {
      "text/plain": [
       "{'sources': {'HuggingFaceH4/ultrafeedback_binarized': 0.005},\n",
       " 'splits': ['train_prefs', 'test_prefs'],\n",
       " 'preprocessing': {'num_proc': 2, 'task': 'dpo'}}"
      ]
     },
     "execution_count": 9,
     "metadata": {},
     "output_type": "execute_result"
    }
   ],
   "source": [
    "data['datasets']"
   ]
  }
 ],
 "metadata": {
  "language_info": {
   "name": "python"
  }
 },
 "nbformat": 4,
 "nbformat_minor": 2
}
