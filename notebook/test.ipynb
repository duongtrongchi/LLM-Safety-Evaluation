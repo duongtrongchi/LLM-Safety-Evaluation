{
 "cells": [
  {
   "cell_type": "code",
   "execution_count": 1,
   "metadata": {},
   "outputs": [],
   "source": [
    "import re\n",
    "\n",
    "def clean_text(input_text):\n",
    "    cleaned_text = re.sub(r'\\n+', '\\n', input_text)\n",
    "    return cleaned_text.strip()"
   ]
  },
  {
   "cell_type": "code",
   "execution_count": 4,
   "metadata": {},
   "outputs": [
    {
     "name": "stdout",
     "output_type": "stream",
     "text": [
      "Qwen2-1.5B-Instruct-orpo\n"
     ]
    }
   ],
   "source": [
    "path = \"/teamspace/studios/this_studio/LLM-Safety-Evaluation/result/Qwen2-1.5B-Instruct-orpo 23-04-2025 01:25:16.jsonl\"\n",
    "\n",
    "def extract_file_name(path):\n",
    "    filename = os.path.basename(path)\n",
    "    name, extension = os.path.splitext(filename)\n",
    "    return name.split(\" \")[0]\n",
    "\n",
    "print(extract_file_name(path))"
   ]
  }
 ],
 "metadata": {
  "language_info": {
   "name": "python"
  }
 },
 "nbformat": 4,
 "nbformat_minor": 2
}
